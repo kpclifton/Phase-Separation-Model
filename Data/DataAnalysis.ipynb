{
 "cells": [
  {
   "cell_type": "markdown",
   "metadata": {},
   "source": [
    "# Random Walk project: Protein Phase Separation"
   ]
  },
  {
   "cell_type": "code",
   "execution_count": 1,
   "metadata": {
    "tags": []
   },
   "outputs": [],
   "source": [
    "# Import required packages\n",
    "\n",
    "import numpy as np\n",
    "import pandas as pd\n",
    "import scipy\n",
    "from scipy import stats as st\n",
    "# from statsmodels.distributions.empirical_distribution import ECDF\n",
    "\n",
    "import matplotlib.pyplot as plt\n",
    "import matplotlib.patches as patches\n",
    "%matplotlib inline\n",
    "\n",
    "import seaborn as sns\n",
    "\n",
    "import warnings\n",
    "warnings.filterwarnings('ignore')"
   ]
  },
  {
   "cell_type": "markdown",
   "metadata": {},
   "source": [
    "##  Inducing cluster *dissociation* with transient spatial stimulus, applied to right side of grid, results in persistent spatial asymmetry after stimulus is removed \n",
    "\n",
    "Figure 6 in \"Replicating a Phase Separation Model of Long Term Spatial Memory\""
   ]
  },
  {
   "cell_type": "code",
   "execution_count": 2,
   "metadata": {
    "collapsed": false,
    "jupyter": {
     "outputs_hidden": false
    }
   },
   "outputs": [],
   "source": [
    "df_left = pd.read_csv('clusteravgsP2/clusteringAvgsleft.csv')\n",
    "df_right = pd.read_csv('clusteravgsP2/clusteringAvgsright.csv')"
   ]
  },
  {
   "cell_type": "code",
   "execution_count": 3,
   "metadata": {
    "collapsed": false,
    "jupyter": {
     "outputs_hidden": false
    }
   },
   "outputs": [],
   "source": [
    "df_left.columns = ['step', 'cluster size']\n",
    "df_right.columns = ['step', 'cluster size']\n",
    "df_left_abr = np.zeros((60,2))\n",
    "df_right_abr = np.zeros((60,2))\n",
    "k=0\n",
    "for i in range(0,len(df_left),100000):\n",
    "    df_left_abr[k,:] = [df_left['step'].values[i],df_left['cluster size'].values[i]]\n",
    "    k=k+1\n",
    "j=0\n",
    "for i in range(0,len(df_right),100000):\n",
    "    df_right_abr[j,:] = [df_right['step'].values[i],df_right['cluster size'].values[i]]\n",
    "    j=j+1"
   ]
  },
  {
   "cell_type": "code",
   "execution_count": 4,
   "metadata": {
    "collapsed": false,
    "jupyter": {
     "outputs_hidden": false
    }
   },
   "outputs": [],
   "source": [
    "df_left = pd.DataFrame({'step': df_left_abr[:,0], 'cluster size': df_left_abr[:,1]})\n",
    "df_right = pd.DataFrame({'step': df_right_abr[:,0], 'cluster size': df_right_abr[:,1]})                     "
   ]
  },
  {
   "cell_type": "code",
   "execution_count": 5,
   "metadata": {
    "collapsed": false,
    "jupyter": {
     "outputs_hidden": false
    }
   },
   "outputs": [],
   "source": [
    "#df_left.columns = ['step', 'cluster size']\n",
    "#df_right.columns = ['step', 'cluster size']\n",
    "region_st = np.array(['stimulated']*60)\n",
    "region_unst = np.array(['unstimulated']*60)\n",
    "region = np.concatenate((region_st,region_unst))\n",
    "cluster_size_l = df_left['cluster size'].values\n",
    "cluster_size_r = df_right['cluster size'].values\n",
    "cluster_size = np.concatenate((cluster_size_l,cluster_size_r))\n",
    "step_left = df_left['step'].values\n",
    "step_right = df_right['step'].values\n",
    "step = np.concatenate((step_left,step_right))"
   ]
  },
  {
   "cell_type": "code",
   "execution_count": 6,
   "metadata": {
    "collapsed": false,
    "jupyter": {
     "outputs_hidden": false
    }
   },
   "outputs": [],
   "source": [
    "df_persistent = pd.DataFrame({'step': step, 'cluster size': cluster_size,'region': region})"
   ]
  },
  {
   "cell_type": "code",
   "execution_count": 7,
   "metadata": {
    "collapsed": false,
    "jupyter": {
     "outputs_hidden": false
    }
   },
   "outputs": [
    {
     "data": {
      "text/plain": [
       "<Figure size 1440x720 with 0 Axes>"
      ]
     },
     "metadata": {},
     "output_type": "display_data"
    },
    {
     "data": {
      "image/png": "[encoded data removed]",
      "text/plain": [
       "<Figure size 462.125x360 with 1 Axes>"
      ]
     },
     "metadata": {
      "needs_background": "light"
     },
     "output_type": "display_data"
    }
   ],
   "source": [
    "plt.figure(figsize=(20,10))\n",
    "#plt.figure()\n",
    "sns.lmplot(x='step', y='cluster size', hue='region', data=df_persistent, fit_reg=False,scatter_kws={'s':50})\n",
    "#plt.xticks(fontsize=15)\n",
    "#plt.yticks(fontsize=20)\n",
    "plt.gca().set_ylim((0,14))\n",
    "plt.gca().set_xlim((0,6000000))\n",
    "plt.gca().set_ylabel('cluster size', fontsize=20)\n",
    "plt.gca().set_xlabel('step',fontsize=20)\n",
    "plt.show()"
   ]
  },
  {
   "cell_type": "markdown",
   "metadata": {},
   "source": [
    "Difference in mean cluster size for stimulated and unstimulated regions shows that a transient spatial stimulus that induces cluster dissociation results in spatial asymmetry which remains after the stimulus is removed"
   ]
  },
  {
   "cell_type": "markdown",
   "metadata": {},
   "source": [
    "## Inducing cluster *aggregation* with transient spatial stimulus, applied to right side of grid, does not result in persistent spatial asymmetry after stimulus is removed \n",
    "\n",
    "figure 8 in \"Replicating a Phase Separation Model of Long Term Spatial Memory\""
   ]
  },
  {
   "cell_type": "code",
   "execution_count": 9,
   "metadata": {
    "collapsed": false,
    "jupyter": {
     "outputs_hidden": false
    }
   },
   "outputs": [],
   "source": [
    "df_left = pd.read_csv('clusteravgsP3/clusteringAvgsleft.csv')\n",
    "df_right = pd.read_csv('clusteravgsP3/clusteringAvgsright.csv')\n",
    "df_left.columns = ['step', 'cluster size']\n",
    "df_right.columns = ['step', 'cluster size']"
   ]
  },
  {
   "cell_type": "code",
   "execution_count": 10,
   "metadata": {
    "tags": []
   },
   "outputs": [],
   "source": [
    "df_left_abr = np.zeros((60,2))\n",
    "df_right_abr = np.zeros((60,2))\n",
    "k=0\n",
    "for i in range(0,len(df_left),100000):\n",
    "    df_left_abr[k,:] = [df_left['step'].values[i],df_left['cluster size'].values[i]]\n",
    "    k=k+1\n",
    "j=0\n",
    "for i in range(0,len(df_right),100000):\n",
    "    df_right_abr[j,:] = [df_right['step'].values[i],df_right['cluster size'].values[i]]\n",
    "    j=j+1\n",
    "    "
   ]
  },
  {
   "cell_type": "code",
   "execution_count": 11,
   "metadata": {
    "tags": []
   },
   "outputs": [],
   "source": [
    "df_left = pd.DataFrame({'step': df_left_abr[:,0], 'cluster size': df_left_abr[:,1]})\n",
    "df_right = pd.DataFrame({'step': df_right_abr[:,0], 'cluster size': df_right_abr[:,1]})   \n",
    "region_st = np.array(['stimulated']*60)\n",
    "region_unst = np.array(['unstimulated']*60)\n",
    "region = np.concatenate((region_st,region_unst))\n",
    "cluster_size_l = df_left['cluster size'].values\n",
    "cluster_size_r = df_right['cluster size'].values\n",
    "cluster_size = np.concatenate((cluster_size_l,cluster_size_r))\n",
    "step_left = df_left['step'].values\n",
    "step_right = df_right['step'].values\n",
    "step = np.concatenate((step_left,step_right))"
   ]
  },
  {
   "cell_type": "code",
   "execution_count": 12,
   "metadata": {
    "tags": []
   },
   "outputs": [],
   "source": [
    "df_memoryless = pd.DataFrame({'step': step, 'cluster size': cluster_size,'region': region})"
   ]
  },
  {
   "cell_type": "code",
   "execution_count": 19,
   "metadata": {
    "collapsed": false,
    "jupyter": {
     "outputs_hidden": false
    }
   },
   "outputs": [
    {
     "data": {
      "text/plain": [
       "<Figure size 1440x720 with 0 Axes>"
      ]
     },
     "metadata": {},
     "output_type": "display_data"
    },
    {
     "data": {
      "image/png": "[encoded data removed]",
      "text/plain": [
       "<Figure size 462.125x360 with 1 Axes>"
      ]
     },
     "metadata": {
      "needs_background": "light"
     },
     "output_type": "display_data"
    }
   ],
   "source": [
    "plt.figure(figsize=(20,10))\n",
    "#plt.figure()\n",
    "sns.lmplot(x='step', y='cluster size', hue='region', data=df_memoryless, fit_reg=False,scatter_kws={'s':50})\n",
    "#plt.xticks(fontsize=15)\n",
    "#plt.yticks(fontsize=20)\n",
    "plt.gca().set_ylim((0,14))\n",
    "plt.gca().set_xlim((0,6000000))\n",
    "plt.gca().set_ylabel('cluster size', fontsize=20)\n",
    "plt.gca().set_xlabel('step',fontsize=20)\n",
    "plt.show()"
   ]
  },
  {
   "cell_type": "markdown",
   "metadata": {},
   "source": [
    "Transient spatial stimulus that induces cluster aggregation does not lead to spatial asymmetry. Mean cluster size converges after stimulus is removed."
   ]
  },
  {
   "cell_type": "markdown",
   "metadata": {},
   "source": [
    "## Verification that the simulation shows that phase separation is dependent on the interaction strength, i.e. temperature-like stimulus Θ\n",
    "\n",
    "Figure 5 in \"Replicating a Phase Separation Model of Long Term Spatial Memory\"\n",
    "\n",
    "Characteristic phase separation patterns as described by Dine et al. are “a single diffuse phase at high Θ, coexistence of dynamic, liquid-like droplets and a diffuse phase at intermediate values of Θ, and strongly arrested dynamics for low Θ.”"
   ]
  },
  {
   "cell_type": "code",
   "execution_count": 26,
   "metadata": {
    "tags": []
   },
   "outputs": [],
   "source": [
    "df_01 = pd.read_csv('clusteravgsP1/clusteringAvgs01.csv')\n",
    "df_02 = pd.read_csv('clusteravgsP1/clusteringAvgs02.csv')\n",
    "df_03 = pd.read_csv('clusteravgsP1/clusteringAvgs03.csv')\n",
    "df_04 = pd.read_csv('clusteravgsP1/clusteringAvgs04.csv')\n",
    "df_05 = pd.read_csv('clusteravgsP1/clusteringAvgs05.csv')\n",
    "df_06 = pd.read_csv('clusteravgsP1/clusteringAvgs06.csv')\n",
    "df_07 = pd.read_csv('clusteravgsP1/clusteringAvgs07.csv')\n",
    "df_08 = pd.read_csv('clusteravgsP1/clusteringAvgs08.csv')\n",
    "df_09 = pd.read_csv('clusteravgsP1/clusteringAvgs09.csv')\n",
    "df_1 = pd.read_csv('clusteravgsP1/clusteringAvgs1.csv')\n",
    "df_2 = pd.read_csv('clusteravgsP1/clusteringAvgs2.csv')\n",
    "df_3 = pd.read_csv('clusteravgsP1/clusteringAvgs3.csv')\n",
    "df_4 = pd.read_csv('clusteravgsP1/clusteringAvgs4.csv')\n",
    "df_5 = pd.read_csv('clusteravgsP1/clusteringAvgs5.csv')\n",
    "df_6 = pd.read_csv('clusteravgsP1/clusteringAvgs6.csv')\n",
    "df_7 = pd.read_csv('clusteravgsP1/clusteringAvgs7.csv')\n",
    "df_8 = pd.read_csv('clusteravgsP1/clusteringAvgs8.csv')\n",
    "df_9 = pd.read_csv('clusteravgsP1/clusteringAvgs9.csv')\n",
    "df_10 = pd.read_csv('clusteravgsP1/clusteringAvgs10.csv')"
   ]
  },
  {
   "cell_type": "code",
   "execution_count": 21,
   "metadata": {
    "tags": []
   },
   "outputs": [],
   "source": [
    "df_01.columns = ['step', 'cluster size']\n",
    "df_02.columns = ['step', 'cluster size']\n",
    "df_03.columns = ['step', 'cluster size']\n",
    "df_04.columns = ['step', 'cluster size']\n",
    "df_05.columns = ['step', 'cluster size']\n",
    "df_06.columns = ['step', 'cluster size']\n",
    "df_07.columns = ['step', 'cluster size']\n",
    "df_08.columns = ['step', 'cluster size']\n",
    "df_09.columns = ['step', 'cluster size']\n",
    "df_1.columns = ['step', 'cluster size']\n",
    "df_2.columns = ['step', 'cluster size']\n",
    "df_3.columns = ['step', 'cluster size']\n",
    "df_4.columns = ['step', 'cluster size']\n",
    "df_5.columns = ['step', 'cluster size']\n",
    "df_6.columns = ['step', 'cluster size']\n",
    "df_7.columns = ['step', 'cluster size']\n",
    "df_8.columns = ['step', 'cluster size']\n",
    "df_9.columns = ['step', 'cluster size']\n",
    "df_10.columns = ['step', 'cluster size']"
   ]
  },
  {
   "cell_type": "code",
   "execution_count": 22,
   "metadata": {
    "collapsed": false,
    "jupyter": {
     "outputs_hidden": false
    }
   },
   "outputs": [],
   "source": [
    "mean_cluster_size = np.zeros((19,2))\n",
    "mean_cluster_size[:,0]= [0.1,0.2,0.3,0.4,0.5,0.6,0.7,0.8,0.9,1,2,3,4,5,6,7,8,9,10]\n"
   ]
  },
  {
   "cell_type": "code",
   "execution_count": 23,
   "metadata": {
    "collapsed": false,
    "jupyter": {
     "outputs_hidden": false
    }
   },
   "outputs": [
    {
     "name": "stdout",
     "output_type": "stream",
     "text": [
      "[[ 0.1    3.613]\n",
      " [ 0.2    4.685]\n",
      " [ 0.3    5.767]\n",
      " [ 0.4    6.124]\n",
      " [ 0.5    7.   ]\n",
      " [ 0.6    6.581]\n",
      " [ 0.7    5.974]\n",
      " [ 0.8    5.313]\n",
      " [ 0.9    5.216]\n",
      " [ 1.     5.022]\n",
      " [ 2.     2.819]\n",
      " [ 3.     2.628]\n",
      " [ 4.     2.407]\n",
      " [ 5.     2.453]\n",
      " [ 6.     2.346]\n",
      " [ 7.     2.269]\n",
      " [ 8.     2.262]\n",
      " [ 9.     2.237]\n",
      " [10.     2.248]]\n"
     ]
    }
   ],
   "source": [
    "mean_cluster_size[0,1] = np.ndarray.max(df_01['cluster size'].values)\n",
    "mean_cluster_size[1,1] = np.ndarray.max(df_02['cluster size'].values)\n",
    "mean_cluster_size[2,1] = np.ndarray.max(df_03['cluster size'].values)\n",
    "mean_cluster_size[3,1] = np.ndarray.max(df_04['cluster size'].values)\n",
    "mean_cluster_size[4,1] = np.ndarray.max(df_05['cluster size'].values)\n",
    "mean_cluster_size[5,1] = np.ndarray.max(df_06['cluster size'].values)\n",
    "mean_cluster_size[6,1] = np.ndarray.max(df_07['cluster size'].values)\n",
    "mean_cluster_size[7,1] = np.ndarray.max(df_08['cluster size'].values)\n",
    "mean_cluster_size[8,1] = np.ndarray.max(df_09['cluster size'].values)\n",
    "mean_cluster_size[9,1] = np.ndarray.max(df_1['cluster size'].values)\n",
    "mean_cluster_size[10,1] = np.ndarray.max(df_2['cluster size'].values)\n",
    "mean_cluster_size[11,1] = np.ndarray.max(df_3['cluster size'].values)\n",
    "mean_cluster_size[12,1] = np.ndarray.max(df_4['cluster size'].values)\n",
    "mean_cluster_size[13,1] = np.ndarray.max(df_5['cluster size'].values)\n",
    "mean_cluster_size[14,1] = np.ndarray.max(df_6['cluster size'].values)\n",
    "mean_cluster_size[15,1] = np.ndarray.max(df_7['cluster size'].values)\n",
    "mean_cluster_size[16,1] = np.ndarray.max(df_8['cluster size'].values)\n",
    "mean_cluster_size[17,1] = np.ndarray.max(df_9['cluster size'].values)\n",
    "mean_cluster_size[18,1] = np.ndarray.max(df_10['cluster size'].values)\n",
    "print(mean_cluster_size)\n"
   ]
  },
  {
   "cell_type": "code",
   "execution_count": 24,
   "metadata": {
    "collapsed": false,
    "jupyter": {
     "outputs_hidden": false
    }
   },
   "outputs": [],
   "source": [
    "df_temp = pd.DataFrame({'interaction strength': mean_cluster_size[:,0], 'max cluster size': mean_cluster_size[:,1]})"
   ]
  },
  {
   "cell_type": "code",
   "execution_count": 25,
   "metadata": {
    "collapsed": false,
    "jupyter": {
     "outputs_hidden": false
    }
   },
   "outputs": [
    {
     "data": {
      "image/png": "[encoded data removed]",
      "text/plain": [
       "<Figure size 1440x720 with 1 Axes>"
      ]
     },
     "metadata": {
      "needs_background": "light"
     },
     "output_type": "display_data"
    }
   ],
   "source": [
    "plt.figure(figsize=(20,10))\n",
    "#plt.figure()\n",
    "sns.regplot(x='interaction strength', y='max cluster size', data=df_temp, fit_reg=False,scatter_kws={'s':200})\n",
    "plt.gca().set_xscale('log')\n",
    "#plt.gca().set_xscale('log',basex = 10)\n",
    "plt.gca().set_ylim((0,10))\n",
    "plt.gca().set_xlim((.1,10))\n",
    "plt.xticks(fontsize=15)\n",
    "plt.yticks(fontsize=20)\n",
    "plt.gca().set_ylabel('max cluster size', fontsize=20)\n",
    "plt.gca().set_xlabel('interaction strength',fontsize=20)\n",
    "plt.show()"
   ]
  },
  {
   "cell_type": "markdown",
   "metadata": {
    "jupyter": {
     "outputs_hidden": true
    }
   },
   "source": [
    "Maximum mean cluster size as a function of temperature shows that phase separation is dependent on the interaction strength. At high temperature, the solution is mostly diffuse with a maximum cluster size of two. At intermediate temperatures, larger clusters form with varying sizes."
   ]
  },
  {
   "cell_type": "code",
   "execution_count": null,
   "metadata": {},
   "outputs": [],
   "source": []
  },
  {
   "cell_type": "code",
   "execution_count": null,
   "metadata": {},
   "outputs": [],
   "source": []
  }
 ],
 "metadata": {
  "anaconda-cloud": {},
  "kernelspec": {
   "display_name": "Python 3 (ipykernel)",
   "language": "python",
   "name": "python3"
  },
  "language_info": {
   "codemirror_mode": {
    "name": "ipython",
    "version": 3
   },
   "file_extension": ".py",
   "mimetype": "text/x-python",
   "name": "python",
   "nbconvert_exporter": "python",
   "pygments_lexer": "ipython3",
   "version": "3.10.5"
  }
 },
 "nbformat": 4,
 "nbformat_minor": 4
}
